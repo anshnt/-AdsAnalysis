{
 "cells": [
  {
   "cell_type": "markdown",
   "metadata": {
    "_uuid": "ff3c98f04d2ad248ff2b69d7c76d0ec4cc316e42"
   },
   "source": [
    "# Advertising Logistic Regresson"
   ]
  },
  {
   "cell_type": "markdown",
   "metadata": {
    "_uuid": "21911ff7def56114b1a336024c0127cd3aba067f"
   },
   "source": [
    "### Predict whether or not a user will click on an advertisement"
   ]
  },
  {
   "cell_type": "markdown",
   "metadata": {
    "_uuid": "26f3cf03ab40dbab1744070c23a0ce9340ebe069"
   },
   "source": [
    "## Imports "
   ]
  },
  {
   "cell_type": "code",
   "execution_count": null,
   "metadata": {
    "_uuid": "7edb8cbd649843e1e16104f7cb3b886616f8b194"
   },
   "outputs": [],
   "source": [
    "import pandas as pd\n",
    "import numpy as np\n",
    "import matplotlib.pyplot as plt\n",
    "import seaborn as sns\n",
    "%matplotlib inline"
   ]
  },
  {
   "cell_type": "code",
   "execution_count": null,
   "metadata": {
    "_uuid": "33383b44763416c3cda573bbf9092cb594500d14"
   },
   "outputs": [],
   "source": [
    "ad_data = pd.read_csv('../input/advertising.csv')"
   ]
  },
  {
   "cell_type": "markdown",
   "metadata": {
    "_uuid": "b35bbb97b5f71ede479300d9a6f64ad77ab6f346"
   },
   "source": [
    "## Exploratory Data Analysis"
   ]
  },
  {
   "cell_type": "code",
   "execution_count": null,
   "metadata": {
    "_uuid": "f12ed8a1a93a5f0bf54fe022df0abb5176fb1058"
   },
   "outputs": [],
   "source": [
    "ad_data.head()"
   ]
  },
  {
   "cell_type": "code",
   "execution_count": null,
   "metadata": {
    "_uuid": "545096850e72e4da38b4830deee214ff1e67ef99"
   },
   "outputs": [],
   "source": [
    "ad_data.info()"
   ]
  },
  {
   "cell_type": "code",
   "execution_count": null,
   "metadata": {
    "_uuid": "676d09044def91b57937e79e7dcc8567dfb72ffd"
   },
   "outputs": [],
   "source": [
    "ad_data.describe()"
   ]
  },
  {
   "cell_type": "code",
   "execution_count": null,
   "metadata": {
    "_uuid": "66e61d788b19f839bfaa09f30dcc8ce75402dc04"
   },
   "outputs": [],
   "source": [
    "ad_data['Age'].plot.hist(bins=30)"
   ]
  },
  {
   "cell_type": "code",
   "execution_count": null,
   "metadata": {
    "_uuid": "3e06caaccad4c1fa37b4bc50bf194ca3f15dc8b7"
   },
   "outputs": [],
   "source": [
    "sns.jointplot(x='Age',y='Area Income',data=ad_data)"
   ]
  },
  {
   "cell_type": "code",
   "execution_count": null,
   "metadata": {
    "_uuid": "02110e18b113040b47fe5a851c3beea7945792ae"
   },
   "outputs": [],
   "source": [
    "sns.jointplot(x='Age',y='Daily Time Spent on Site',data=ad_data,kind='kde',color='red')"
   ]
  },
  {
   "cell_type": "code",
   "execution_count": null,
   "metadata": {
    "_uuid": "a38c596e9ddbfe059aa8a9990dc5cc48f8edb832"
   },
   "outputs": [],
   "source": [
    "sns.jointplot(x='Daily Time Spent on Site', y='Daily Internet Usage', data=ad_data)"
   ]
  },
  {
   "cell_type": "code",
   "execution_count": null,
   "metadata": {
    "_uuid": "38827a0ae1336502e7c5b293f5f999d0fa07e0e1"
   },
   "outputs": [],
   "source": [
    "sns.pairplot(ad_data,hue='Clicked on Ad')"
   ]
  },
  {
   "cell_type": "markdown",
   "metadata": {
    "_uuid": "a7dedefde0da9e603467c396412d3b59823ea66a"
   },
   "source": [
    "## Logistic Regression Model"
   ]
  },
  {
   "cell_type": "code",
   "execution_count": null,
   "metadata": {
    "_uuid": "bb734aedf49ea8e523c97788e666dff285581eb1"
   },
   "outputs": [],
   "source": [
    "from sklearn.model_selection import train_test_split"
   ]
  },
  {
   "cell_type": "code",
   "execution_count": null,
   "metadata": {
    "_uuid": "da7a47c62bfd3f09d026807fa97389090a0ebb83"
   },
   "outputs": [],
   "source": [
    "X = ad_data[['Daily Time Spent on Site','Age','Area Income','Daily Internet Usage','Male']]\n",
    "y = ad_data['Clicked on Ad']\n",
    "X_train, X_test, y_train, y_test = train_test_split(X, y, test_size=0.3, random_state=101)"
   ]
  },
  {
   "cell_type": "markdown",
   "metadata": {
    "_uuid": "506a6436f131f730a7a662e505e09b07c54315ef"
   },
   "source": [
    "### Train and fit a logistic regression model on the training set"
   ]
  },
  {
   "cell_type": "code",
   "execution_count": null,
   "metadata": {
    "_uuid": "93973d5871ee20f6348503888ead189c108fc82d"
   },
   "outputs": [],
   "source": [
    "from sklearn.linear_model import LogisticRegression"
   ]
  },
  {
   "cell_type": "code",
   "execution_count": null,
   "metadata": {
    "_uuid": "c83b2a6f496fd15a7bb54b09e8220acba294b31e"
   },
   "outputs": [],
   "source": [
    "logmodel = LogisticRegression()\n",
    "logmodel.fit(X_train,y_train)"
   ]
  },
  {
   "cell_type": "markdown",
   "metadata": {
    "_uuid": "3e259904b90b7b6dc91ab08791ea75d88d1b97e4"
   },
   "source": [
    "## Predictions and Evaluations"
   ]
  },
  {
   "cell_type": "code",
   "execution_count": null,
   "metadata": {
    "_uuid": "aa38a7260f960abe7e3c75e9c76b2ac33d521e9a"
   },
   "outputs": [],
   "source": [
    "predictions = logmodel.predict(X_test)"
   ]
  },
  {
   "cell_type": "code",
   "execution_count": null,
   "metadata": {
    "_uuid": "6d4165907fbe2b4657752498f7d19cc85925a0ee"
   },
   "outputs": [],
   "source": [
    "from sklearn.metrics import classification_report,confusion_matrix\n",
    "print(classification_report(y_test,predictions))\n",
    "print(confusion_matrix(y_test,predictions))"
   ]
  },
  {
   "cell_type": "code",
   "execution_count": null,
   "metadata": {
    "_uuid": "cdfa8e404733b1fc391db280ab2ea0af72052056"
   },
   "outputs": [],
   "source": []
  }
 ],
 "metadata": {
  "kernelspec": {
   "display_name": "Python 3",
   "language": "python",
   "name": "python3"
  },
  "language_info": {
   "codemirror_mode": {
    "name": "ipython",
    "version": 3
   },
   "file_extension": ".py",
   "mimetype": "text/x-python",
   "name": "python",
   "nbconvert_exporter": "python",
   "pygments_lexer": "ipython3",
   "version": "3.6.6"
  }
 },
 "nbformat": 4,
 "nbformat_minor": 1
}
